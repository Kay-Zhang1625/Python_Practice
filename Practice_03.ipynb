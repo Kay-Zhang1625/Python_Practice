{
 "cells": [
  {
   "cell_type": "markdown",
   "metadata": {},
   "source": [
    "## Extract data from Web API - 政府資料開放平臺"
   ]
  },
  {
   "cell_type": "markdown",
   "metadata": {},
   "source": [
    "### 1. Make a request to the API and grab the data.\n",
    "### 2. Use the data to graph a plot."
   ]
  },
  {
   "cell_type": "code",
   "execution_count": 1,
   "metadata": {},
   "outputs": [],
   "source": [
    "import pandas as pd\n",
    "import matplotlib.pyplot as plt\n",
    "import requests"
   ]
  },
  {
   "cell_type": "code",
   "execution_count": 10,
   "metadata": {},
   "outputs": [
    {
     "name": "stdout",
     "output_type": "stream",
     "text": [
      "          0                    Id      Name Zone  \\\n",
      "0   澎湖生活博物館  C1_315080600H_000056   澎湖生活博物館        \n",
      "1   木生昆蟲博物館  C1_315081100H_000106   木生昆蟲博物館        \n",
      "2  龍南天然漆博物館  C1_315081100H_000171  龍南天然漆博物館        \n",
      "3   中台世界博物館  C1_315081100H_000368   中台世界博物館        \n",
      "4    台灣鹽博物館  C1_315081600H_000070    台灣鹽博物館        \n",
      "\n",
      "                                         Toldescribe  \\\n",
      "0  2010年正式開館營運，是臺灣第一座城市博物館，全館展示以真實的標本文物、文獻、圖片、生態造...   \n",
      "1  木生昆蟲博物館緊鄰於牛耳藝術渡假村，館內珍藏了許多世界各地著名的蝴蝶和昆蟲標本，目前為世界上...   \n",
      "2  位於北平街埔里國小旁，以展示臺灣傳統天然漆的發展歷史集產業文物為主題，持續發揚天然漆的文化與...   \n",
      "3  中台世界博物館座落於中台灣合歡山下的蓮花盆地，依山而建與山形融為一體，毗鄰中台禪寺，群山疊翠...   \n",
      "4  臺灣鹽博物館是臺灣唯一有關鹽產業的主題博物館，保存臺灣數百年的鹽業文化資產。「鹽」為鹽工汗水...   \n",
      "\n",
      "                                         Description             Tel  \\\n",
      "0  2010年正式開館營運，是臺灣第一座城市博物館，全館展示以真實的標本文物、文獻、圖片、生態造...   886-6-9210405   \n",
      "1         館內珍藏了許多世界各地著名的蝴蝶和昆蟲標本，目前為世界上私人收藏最豐富的昆蟲博物館。  886-4-92913311   \n",
      "2  位於北平街埔里國小旁，以展示臺灣傳統天然漆的發展歷史集產業文物為主題，持續發揚天然漆的文化與...  886-4-92982076   \n",
      "3  中台世界博物館座落於中台灣合歡山下的蓮花盆地，依山而建與山形融為一體，毗鄰中台禪寺，群山疊翠...  886-4-92932999   \n",
      "4  臺灣鹽博物館是臺灣唯一有關鹽產業的主題博物館，保存臺灣數百年的鹽業文化資產。「鹽」為鹽工汗水...   886-6-7801775   \n",
      "\n",
      "                  Add Zipcode Region  ... Class3 Level  \\\n",
      "0       澎湖縣馬公市新生路327號     880    澎湖縣  ...            9   \n",
      "1    南投縣545埔里鎮南村路6之2號     545    南投縣  ...                \n",
      "2  南投縣545埔里鎮北平街211-1號     545    南投縣  ...     12         \n",
      "3      南投縣545埔里鎮中台路8號     545    南投縣  ...                \n",
      "4     臺南市724七股區鹽埕里69號     724    臺南市  ...                \n",
      "\n",
      "                                             Website Parkinginfo  \\\n",
      "0                     http://www.phlm.nat.gov.tw/ch/               \n",
      "1                                                                  \n",
      "2                                                                  \n",
      "3                                                                  \n",
      "4  https://www.tnshio.com/page/about/index.aspx?k...               \n",
      "\n",
      "  Parkinginfo_Px Parkinginfo_Py              Ticketinfo  \\\n",
      "0            NaN            NaN                           \n",
      "1            NaN            NaN                           \n",
      "2            NaN            NaN                           \n",
      "3            NaN            NaN  全票200元/優待票100元/招待票(免費)   \n",
      "4            NaN            NaN                           \n",
      "\n",
      "                           Remarks Keyword                 Changetime  \n",
      "0                                           2017-10-31T21:59:13+08:00  \n",
      "1                                           2019-09-19T23:06:45+08:00  \n",
      "2                                           2019-12-13T10:37:05+08:00  \n",
      "3                                           2020-05-07T17:00:12+08:00  \n",
      "4  展區參觀時間：9:00-17:00 (最後售票時間16:30)          2020-05-28T17:01:13+08:00  \n",
      "\n",
      "[5 rows x 36 columns]\n"
     ]
    }
   ],
   "source": [
    "# Communicate with APIs with the Requests Package. And grab the lists of 'Info'.\n",
    "url = 'https://gis.taiwan.net.tw/XMLReleaseALL_public/scenic_spot_C_f.json'\n",
    "data_json = requests.get(url).json()['XML_Head']['Infos']['Info']\n",
    "df = pd.DataFrame(data_json)\n",
    "\n",
    "# Filter the column value and select the row included '博物館'.\n",
    "filteredName = df['Name'].str.extract(r'(.*博物館)').dropna(axis=0,how='all')\n",
    "df_filtered = pd.merge(filteredName, df, left_on=0, right_on='Name')\n",
    "\n",
    "print(df_filtered.head(5))"
   ]
  },
  {
   "cell_type": "code",
   "execution_count": 11,
   "metadata": {},
   "outputs": [
    {
     "name": "stdout",
     "output_type": "stream",
     "text": [
      "        博物館\n",
      "Region     \n",
      "新北市      14\n",
      "臺中市      11\n",
      "臺南市       9\n",
      "高雄市       6\n",
      "彰化縣       5\n",
      "桃園市       5\n",
      "新竹縣       4\n",
      "新竹市       4\n",
      "宜蘭縣       4\n",
      "苗栗縣       3\n",
      "臺東縣       3\n",
      "南投縣       3\n",
      "臺北市       2\n",
      "澎湖縣       2\n",
      "花蓮縣       2\n",
      "屏東縣       1\n",
      "嘉義縣       1\n"
     ]
    }
   ],
   "source": [
    "# Count the museums grouped by 'Region'.\n",
    "df_group = df_filtered.groupby(['Region'])\n",
    "df_group = df_group.size().sort_values(ascending=False)\n",
    "df_museum = df_group.to_frame()\n",
    "df_museum = df_museum.rename(columns={0:'博物館'})\n",
    "\n",
    "print(df_museum)"
   ]
  },
  {
   "cell_type": "code",
   "execution_count": 12,
   "metadata": {},
   "outputs": [
    {
     "data": {
      "image/png": "[encoded data removed]",
      "text/plain": [
       "<Figure size 432x288 with 1 Axes>"
      ]
     },
     "metadata": {
      "needs_background": "light"
     },
     "output_type": "display_data"
    }
   ],
   "source": [
    "# Set Traditional Chinese fonts.\n",
    "plt.rcParams['font.sans-serif'] = ['SimHei'] \n",
    "plt.rcParams['axes.unicode_minus'] = False\n",
    "\n",
    "# Graph a plot.\n",
    "df_museum.plot(kind='bar')\n",
    "plt.title('各縣市博物館數量')\n",
    "plt.xlabel('縣市別')\n",
    "plt.ylabel('數量')\n",
    "\n",
    "plt.show()"
   ]
  },
  {
   "cell_type": "code",
   "execution_count": null,
   "metadata": {},
   "outputs": [],
   "source": []
  }
 ],
 "metadata": {
  "kernelspec": {
   "display_name": "Python 3",
   "language": "python",
   "name": "python3"
  },
  "language_info": {
   "codemirror_mode": {
    "name": "ipython",
    "version": 3
   },
   "file_extension": ".py",
   "mimetype": "text/x-python",
   "name": "python",
   "nbconvert_exporter": "python",
   "pygments_lexer": "ipython3",
   "version": "3.8.3"
  }
 },
 "nbformat": 4,
 "nbformat_minor": 4
}
