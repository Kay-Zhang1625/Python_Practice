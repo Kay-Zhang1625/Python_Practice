{
 "cells": [
  {
   "cell_type": "markdown",
   "metadata": {},
   "source": [
    "# Web Scraping Practice - 博客來"
   ]
  },
  {
   "cell_type": "markdown",
   "metadata": {},
   "source": [
    "### Web scraping with python using Beautiful Soup & requests"
   ]
  },
  {
   "cell_type": "code",
   "execution_count": 1,
   "metadata": {},
   "outputs": [],
   "source": [
    "import csv\n",
    "import requests\n",
    "from bs4 import BeautifulSoup"
   ]
  },
  {
   "cell_type": "markdown",
   "metadata": {},
   "source": [
    "### Enter into the books store website: https://www.books.com.tw/web/books_bmidm_0207/?loc=P_0005_2_007 and scrape the books' information"
   ]
  },
  {
   "cell_type": "code",
   "execution_count": 2,
   "metadata": {},
   "outputs": [],
   "source": [
    "headers = {\n",
    "    'user-agent': 'Mozilla/5.0 (Macintosh; Intel Mac OS X 10_14_6) AppleWebKit/537.36 (KHTML, like Gecko) Chrome/83.0.4103.106 Safari/537.36',\n",
    "}\n",
    "resp = requests.get('https://www.books.com.tw/web/books_bmidm_0207/?loc=P_0005_2_007', headers=headers)\n",
    "soup = BeautifulSoup(resp.text, 'html.parser')\n",
    "items = soup.select('.item')"
   ]
  },
  {
   "cell_type": "code",
   "execution_count": 3,
   "metadata": {},
   "outputs": [],
   "source": [
    "# Create a blank list and put crawling information in it. It's a temporary list.\n",
    "row_list = []\n",
    "\n",
    "for item in items:\n",
    "    try:\n",
    "        title = item.select('h4 a')[0].text\n",
    "        author = item.select('.info a')[0].text\n",
    "        publisher = item.select('.info a')[1].text\n",
    "\n",
    "        data = {\n",
    "            'title' : title,\n",
    "            'author' : author,\n",
    "            'publisher' : publisher\n",
    "        }\n",
    "\n",
    "        row_list.append(data)\n",
    "    except IndexError:\n",
    "        pass"
   ]
  },
  {
   "cell_type": "markdown",
   "metadata": {},
   "source": [
    "### Save the sorting data as a CSV file."
   ]
  },
  {
   "cell_type": "code",
   "execution_count": 4,
   "metadata": {},
   "outputs": [
    {
     "name": "stdout",
     "output_type": "stream",
     "text": [
      "[{'title': '歡迎來到志祺七七!不搞笑、談時事，資訊設計原來很可以：從50人的資訊設計公司到日更YouTuber的瘋狂技能樹', 'author': '張志祺,林欣婕', 'publisher': '天下文化'}, {'title': '【獨家親簽】歡迎來到志祺七七!不搞笑、談時事，資訊設計原來很可以：從50人的資訊設計公司到日更YouTuber的瘋狂技能樹', 'author': '張志祺,林欣婕', 'publisher': '天下文化'}, {'title': '15招市場搶攤法', 'author': '周紹賢', 'publisher': '優品文化事業有限公司'}, {'title': '網紅影響力：自媒體如何塑造我們的數位時代', 'author': '莎拉．麥柯克戴爾', 'publisher': '遠流'}, {'title': '超人氣FB+IG+LINE社群經營與行銷力：用225招快速聚粉，飆升流量變業績!', 'author': '文淵閣工作室', 'publisher': '碁峰'}, {'title': '訂閱經濟的獲利實例：包包、西裝、手錶、眼鏡、汽車到房子……超過20個案例，讓顧客從買一次變成一直買。', 'author': '日經xTREND', 'publisher': '大是文化'}, {'title': '迎戰微型創業新零售，跨境電商全攻略：批貨技巧→品牌形塑→跨國交易，打造業績無上限的獲利心法', 'author': '陳若甯,黃偉宙', 'publisher': '麥浩斯'}, {'title': 'STP行銷策略之Python商業應用實戰|網路爬蟲x機器學習x數據分析', 'author': '楊超霆,羅凱揚,蘇宇暉,鍾皓軒', 'publisher': '碁峰'}, {'title': 'Telegram行動行銷|操作技巧x品牌貼圖x經營心法', 'author': '劉滄碩', 'publisher': '碁峰'}, {'title': '社群大數據：網路聲量、口碑及輿情分析2/e', 'author': '楊立偉', 'publisher': '前程文化'}, {'title': '社群營銷的魔法：社群媒體營銷聖經', 'author': '陳威樺', 'publisher': '集夢坊'}, {'title': '電子商務：8堂一點就通的基礎活用課', 'author': '榮欽科技', 'publisher': '博碩'}, {'title': '電商人妻社群圈粉思維：單月從0到萬，讓流量變現的品牌爆紅經營心法', 'author': '電商人妻Audrey', 'publisher': '悅知文化'}, {'title': '直擊!森美術館數位行銷現場：活用IG、推特、臉書社群媒體推廣展覽的第一線實戰筆記', 'author': '洞田貫 晉一朗', 'publisher': '麥浩斯'}, {'title': '鞋佬的網紅瘋狂日誌：我這樣靠直播打造過百萬生意', 'author': '陳胤華（鞋佬）', 'publisher': '萬里機構'}, {'title': '《YouTube玩家成功術》+《IG玩家成功術》', 'author': '亨利．凱洛,威爾．伊威爾．伊格爾格爾', 'publisher': '積木'}, {'title': '網紅有多賺：從網拍麻豆到電商寵兒，揭密網紅驚人的吸金能力', 'author': '于木,唐江山,趙亮亮', 'publisher': '清文華泉事業有限公司'}, {'title': 'YouTube玩家成功術：#內容創造 #頻道經營 #品牌合作 #趨勢觀察 成為熱門YouTuber的45條教戰守則', 'author': '威爾．伊格爾', 'publisher': '積木'}, {'title': '在家工作：從職場裡自由，在生活中冒險的個人實踐', 'author': '徐豫（Anita御姊愛）', 'publisher': '寫樂文化'}, {'title': '圈對粉，小生意也能賺大錢：不用百萬關注，只要鐵粉圈住，後網紅時代，IP經濟正崛起!', 'author': '許景泰', 'publisher': '三采'}, {'title': '搶進後數位時代：從顧客行為找出未來銷售模式', 'author': '尾原 和啓,藤井 保文', 'publisher': '台灣角川'}, {'title': '新世代新人種!手機智人Phono-Sapiens：你準備好成為消費者至上時代被需要的人才並掌握必備的商業戰略了嗎?', 'author': '崔在鵬', 'publisher': '財經傳訊'}, {'title': '智慧商務：電子商務新方向(第二版)', 'author': '劉文良', 'publisher': '碁峰'}, {'title': '百萬粉絲經營法則：30天3步驟打造社群經濟力，在社交平台擁有百萬追蹤數', 'author': '布蘭登‧肯恩', 'publisher': '時報出版'}, {'title': '潛入亞馬遜：了解全球獨大電商的最後一塊拼圖', 'author': '橫田增生', 'publisher': '先覺'}, {'title': '店家必學!活用「Google我的商家」讓能見度跟營收提升的54招集客密技', 'author': '永友一朗', 'publisher': '台灣東販'}, {'title': '訂閱時代：5大集客獲利策略，直搗行銷核心的經營革命', 'author': '西井敏恭', 'publisher': '台灣東販'}, {'title': '最親切的Google Analytics入門教室', 'author': '小川卓,工藤麻里', 'publisher': '碁峰'}, {'title': '打造自動賺錢機器', 'author': 'Jacky Wang', 'publisher': '創見文化'}, {'title': '如何在FB、YouTube、IG做出爆紅影片：會用手機就會做!日本廣告大獎得主教你從企劃、製作到網路宣傳的最強攻略', 'author': '中澤良直', 'publisher': '財經傳訊'}, {'title': '創新電子商務入門與應用', 'author': '數位新知', 'publisher': '深石'}, {'title': '森田的網海印鈔術：時尚網紅全方位經營技巧大揭密', 'author': '森田', 'publisher': '和平國際'}, {'title': '暢玩一人公司：用個人品牌創造理想的工作方式及事業地圖', 'author': '于為暢', 'publisher': '遠流'}, {'title': '直播主不能說的秘密：上百場直播培訓講座，從素人到爆紅主播，經營法則首次公開!', 'author': '武傳翔（武老千）', 'publisher': '遠流'}, {'title': '中國「互聯網 +」的大學生電子商務創新創意與創業策劃', 'author': '陳鏡羽', 'publisher': '財經錢線文化有限公司'}, {'title': '數位轉型力', 'author': '周維忠,數位轉型研究團隊,李震華,王義智,詹文男', 'publisher': '商周出版'}, {'title': 'Instagram社群經營致富術：集客╳行銷╳吸粉，小編必學的69個超強祕技完全公開!', 'author': '坂本翔', 'publisher': '台灣東販'}, {'title': '圖解臉書內容行銷有撇步!突破Facebook粉絲團社群經營瓶頸(3版)', 'author': '蔡沛君', 'publisher': '書泉'}, {'title': '網路行銷：8堂一點就通的基礎活用課', 'author': '吳燦銘', 'publisher': '博碩'}, {'title': '最親切的SEO入門教室：關鍵字編輯x內容行銷x網站分析', 'author': '福田多美子', 'publisher': '碁峰'}, {'title': 'Facebook互動行銷：社群微型創業經營夯+廣告成效好還要更好，做好臉書行銷第一步，基本功/便利技都在這!', 'author': '鄭苑鳳', 'publisher': '博碩'}, {'title': '雲消費時代', 'author': '賴陽', 'publisher': '樂果文化'}, {'title': '平台策略：在數位競爭、創新與影響力掛帥的時代勝出', 'author': '大衛‧尤菲,安娜貝爾‧高爾,麥可‧庫蘇馬諾', 'publisher': '商周出版'}, {'title': '數據的商戰策略：建立以數據驅動為核心的營運關鍵', 'author': '車品覺', 'publisher': '天下雜誌'}, {'title': '大數據的關鍵思考(增訂版)：行動╳多螢╳碎片化時代的商業智慧', 'author': '車品覺', 'publisher': '天下雜誌'}, {'title': '跨境電商實務設計寶典', 'author': '呂建毅', 'publisher': '經瑋'}, {'title': '最夯網路賺錢術：月入30萬斜槓青年心法大公開', 'author': '阿福', 'publisher': '書泉'}, {'title': 'Google Analytics 疑難雜症大解惑(2版)：讓你恍然大悟的37個必備祕訣(2020年最新版)', 'author': '曾瀚平,鄭江宇', 'publisher': '五南'}, {'title': '第四次零售革命：流通的變革與重構', 'author': '王成榮', 'publisher': '樂果文化'}, {'title': '電競運動管理概論：從娛樂到職業——選手、實況、粉絲經濟，解構新興億萬商機', 'author': '劉宇倫,張錫輝,林淑媛,林立薇,楊明宗,胡舉軍,謝哲人,鍾從定,陳嘉亨', 'publisher': '五南'}, {'title': '電商百大迷思：網路電商明星問題&解答', 'author': '安晨妤', 'publisher': '上奇時代'}, {'title': 'LINE官方帳號2.0聰明升級攻略：節省行銷費用、增加成交金額的實戰教學', 'author': '權自強', 'publisher': 'PCuSER電腦人文化'}, {'title': '贏在付費：企業FB廣告操盤聖經', 'author': '蔡銘達,黃俊元,黃繼億', 'publisher': '零極限'}, {'title': '雀斑女孩Lala網紅速成課：看完秒懂!IG、TikTok經營技巧解密(附寫真╳拍立得)', 'author': '鄭語婕Lala', 'publisher': '台灣角川'}, {'title': '贏在起跑點!FB+IG+LINE社群媒體操作經營活用術：12堂一定要懂的聚客利基，提升精準行銷爆發力', 'author': '鄭苑鳳', 'publisher': '博碩'}, {'title': '百萬電商 一指搞定', 'author': '一指創業編輯部', 'publisher': '渠成文化'}, {'title': '購物革命：品牌×價格×體驗×無阻力，卡恩零售象限掌握競爭優勢，贏得顧客青睞!', 'author': '芭芭拉．E．卡恩', 'publisher': '寶鼎'}, {'title': '網路行銷：智慧商務時代(第五版)', 'author': '劉文良', 'publisher': '碁峰'}, {'title': '我如何靠600美元打造一間百萬線上商店', 'author': 'Ellen Lin', 'publisher': '白象文化'}, {'title': '忌窮：網上無本創業，打出第一個$100萬!', 'author': 'Angus Hung,Angus@StartFree教室', 'publisher': '火柴頭工作室有限公司'}, {'title': '網紅養成手冊|內容行銷x拍攝技巧x廣告收入', 'author': '木村博史,染谷昌利', 'publisher': '碁峰'}, {'title': '30歲，年薪七百萬不是夢', 'author': '趙洋寬', 'publisher': '木果文創有限公司'}, {'title': '網路行銷：SEO.社群.廣告.大數據.AI行銷.聊天機器人.Google Analytics的12堂必修課', 'author': '胡昭民', 'publisher': '博碩'}, {'title': 'Google AdSense完全活用教本：選題×策略×穩定獲利打造權威網站', 'author': 'a-ki,Nonkura（早川修）,染谷昌利,石田健介', 'publisher': '台灣東販'}, {'title': '個人品牌：斜槓時代成就非凡的7個自品牌經營守則', 'author': '何則文', 'publisher': '遠流'}, {'title': '第一次開網店就大賣(加強版)', 'author': 'SHOPLINE 電商教室', 'publisher': '火柴頭工作室有限公司'}, {'title': '爆Likes：1,000,000 Likes Facebook經營心法', 'author': 'Alan,Catherine,Derek,William', 'publisher': '火柴頭工作室有限公司'}, {'title': 'YouTube成功的實踐法則60', 'author': '木村 博文', 'publisher': '博碩'}, {'title': '內容感動行銷：用FAB法則套公式，「無痛」寫出超亮點!', 'author': '鄭緯筌（Vista Cheng）', 'publisher': '方言文化'}, {'title': '讓粉絲剁手指也要買的23個行銷技巧：只要抓住1000個「愛你狂粉」， 就能產生暢銷的連鎖效應!', 'author': '尹佳晨,鄭彤,關東華', 'publisher': '大樂文化'}, {'title': 'LINE官方帳號2.0：邁向百萬星級店家', 'author': '劉滄碩', 'publisher': '碁峰'}, {'title': '零基礎!Instagram 一PO就吸粉的行銷術', 'author': '金本KASUMI', 'publisher': '今周刊'}, {'title': '新媒體行銷議：內容即廣告、流量變現金的新媒體時代!', 'author': '劉若婭,宋雪鳴,費志冰', 'publisher': '崧燁文化'}, {'title': '超人氣Facebook粉絲專頁行銷加油讚(第五版) - 解鎖社群行銷困局+突破粉絲經營盲點=變身最神小編難波萬!', 'author': '文淵閣工作室', 'publisher': '碁峰'}, {'title': '數位行銷的八堂黃金入門課', 'author': '數位新知', 'publisher': '深石'}, {'title': '跨境電商：日入萬元系統', 'author': '徐靜屏,阿拉斯加15大領導', 'publisher': '說故事管理顧問有限公司'}, {'title': '不捕魚了，我們養牛：從魚塘到牧場，整個世界的零售模式正在改變!', 'author': '尹佳晨,鄭彤,關東華', 'publisher': '大樂文化'}, {'title': '數位形象力：平台就是你的資本和機會，經營個人品牌不能不知的技術與藝術', 'author': '辛西亞‧強森', 'publisher': '遠流'}, {'title': '爆棚集客，一刷屏就熱賣 任天堂設計師教你腦洞大開的多媒體行銷集客術', 'author': '謝昊霓', 'publisher': '深石'}, {'title': '數位轉型全攻略：虛實整合的WHAT，WHY與HOW', 'author': '黃俊堯', 'publisher': '商業周刊'}, {'title': '破百萬點閱 文案寫作大解密：30招幫你在LINE群上吸粉的實戰技巧!', 'author': '余老詩', 'publisher': '大樂文化'}, {'title': '電子商務概論與前瞻：跨境電商、行動商務、大數據(第二版)', 'author': '朱海成', 'publisher': '碁峰'}, {'title': '超圖解 網店賺錢一本通：《社群推播立即上手》+《網路行銷立即上手》+《人氣品牌立即上手》+《市調分析立即上手》', 'author': '山口義宏,林雅之,石渡佑矢,逸見光次郎', 'publisher': '方言文化'}, {'title': '將大數據由「潮流」化為「營收」的8個法則：由理論落實到工作現場', 'author': '高橋範光', 'publisher': '財經傳訊'}, {'title': '如何讓我在自媒體爆紅的64堂零基礎寫作課：靠百萬點讚，點亮你的斜槓人生!', 'author': '余老詩', 'publisher': '大樂文化'}, {'title': '社群粉絲爆量行銷術', 'author': '文丹楓,陳建英', 'publisher': '凱信企管'}, {'title': '數文明：大數據如何重塑人類文明、商業形態和個人世界', 'author': '涂子沛', 'publisher': '香港中和出版'}, {'title': '如何在LINE、臉書讓你的故事變現：上12堂商學院不教的行銷科學!', 'author': '蔡傑', 'publisher': '大樂文化'}, {'title': '集客變現時代(黃金暢銷版)：香教你個行銷!讓你懂平台，抓客群，讚讚都能轉換成金流!', 'author': '織田紀香（陳禾穎）', 'publisher': '方舟文化'}, {'title': '買氣紅不讓的Instagram視覺行銷：#用IG創造品牌我也會 #把IG粉絲經營變生意 #讓IG圖片說故事的拍照術(修訂版)', 'author': '鄭苑鳳', 'publisher': '博碩'}, {'title': '網紅這樣當：從社群經營到議價簽約，爆紅撇步、業配攻略、合作眉角全解析', 'author': '布莉塔妮．漢納希', 'publisher': '寶鼎'}, {'title': '閃電擴張：領先企業如何聰明冒險，解開從1到10億快速成長的祕密', 'author': '克里斯．葉,雷德．霍夫曼', 'publisher': '天下雜誌'}, {'title': 'TikTok拍攝新技巧：云、美姬私房攻略(附全台50大浮誇美食)', 'author': 'TikTok,台灣角川編輯部', 'publisher': '台灣角川'}, {'title': 'TikTok創意短影音：康康、黃星瀚外拍攻略(附全台50大驚奇美景)', 'author': 'TikTok,台灣角川編輯部', 'publisher': '台灣角川'}, {'title': 'TikTok創意短影音+拍攝新技巧(一套兩冊，附獨家海報)', 'author': 'TikTok,台灣角川編輯部', 'publisher': '台灣角川'}, {'title': '超圖解 網路行銷立即上手：行銷執行關鍵52招，打造「PDCA完美循環」，「市場」準確定位，99%的顧客都會「回流」!', 'author': '逸見光次郎', 'publisher': '方言文化'}, {'title': '超圖解 社群推播立即上手：社群經營密技58招，輕鬆啟動「獲利循環」，「鐵粉」自動口碑分享，「流量」都能變現金!', 'author': '林雅之', 'publisher': '方言文化'}, {'title': '超人氣Instagram視覺行銷力：小編不哭，經營IG品牌人氣王的110個秘技!', 'author': '文淵閣工作室,鄧文淵', 'publisher': '碁峰'}]\n"
     ]
    }
   ],
   "source": [
    "headers = ['title', 'author', 'publisher']\n",
    "\n",
    "with open('books.csv', 'w') as output_file:\n",
    "    dict_writer = csv.DictWriter(output_file, headers)\n",
    "    dict_writer.writeheader()\n",
    "    dict_writer.writerows(row_list)\n",
    "\n",
    "print(row_list)"
   ]
  },
  {
   "cell_type": "code",
   "execution_count": null,
   "metadata": {},
   "outputs": [],
   "source": []
  }
 ],
 "metadata": {
  "kernelspec": {
   "display_name": "Python 3",
   "language": "python",
   "name": "python3"
  },
  "language_info": {
   "codemirror_mode": {
    "name": "ipython",
    "version": 3
   },
   "file_extension": ".py",
   "mimetype": "text/x-python",
   "name": "python",
   "nbconvert_exporter": "python",
   "pygments_lexer": "ipython3",
   "version": "3.8.3"
  }
 },
 "nbformat": 4,
 "nbformat_minor": 4
}
